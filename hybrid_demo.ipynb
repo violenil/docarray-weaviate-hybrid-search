{
 "cells": [
  {
   "cell_type": "markdown",
   "id": "2925f7fc-cfa8-41f5-8d8a-b89ff3f86d6e",
   "metadata": {},
   "source": [
    "# Hybrid search with DocArray + Weaviate\n",
    "\n",
    "In this notebook, we will set up a Weaviate document index with 200 movie datapoints, in order to do some fun searching with on this store with DocArray! We will cover 3 different searches:\n",
    "  1. Pure text search (symbolic search with BM25)\n",
    "  2. Vector search and\n",
    "  3. Hybrid search (combining symbolic and vector approaches)\n",
    "  \n",
    "Make sure you have a docker instance with Weaviate running locally, or set credentials for connecting to a remote instance. "
   ]
  },
  {
   "cell_type": "code",
   "execution_count": 1,
   "id": "e2069e17-1221-417b-8a4c-99aeaeb0b35f",
   "metadata": {
    "tags": []
   },
   "outputs": [],
   "source": [
    "import docarray\n",
    "assert docarray.__version__ == '0.30.0'  # verify that we have 0.30.0 here :)"
   ]
  },
  {
   "cell_type": "code",
   "execution_count": 2,
   "id": "ad3dff37-fb88-4202-9288-8658c1c7c212",
   "metadata": {
    "tags": []
   },
   "outputs": [],
   "source": [
    "import os\n",
    "import numpy as np\n",
    "import csv\n",
    "import requests as rq\n",
    "from typing import Dict\n",
    "from pydantic import Field\n",
    "from docarray import BaseDoc\n",
    "from docarray.typing import NdArray\n",
    "from docarray.index.backends.weaviate import WeaviateDocumentIndex"
   ]
  },
  {
   "cell_type": "code",
   "execution_count": 3,
   "id": "cbcb0d4a-a62b-42b2-afdd-246e729a2d9b",
   "metadata": {
    "tags": []
   },
   "outputs": [],
   "source": [
    "import warnings\n",
    "warnings.filterwarnings('ignore')"
   ]
  },
  {
   "cell_type": "markdown",
   "id": "ecf591ed-940b-479f-9f0b-e9d1118db57e",
   "metadata": {},
   "source": [
    "## Data loading and encoding\n",
    "\n",
    "We will be using the IMDB Movies Dataset from Kaggle, containing the 1000 top rated movies on IMDB. To download this dataset, we will use `opendatasets`, which will download the data as a csv file into the following directory structure: \n",
    "\n",
    "`imdb-dataset-of-top-1000-movies-and-tv-shows/imdb_top_1000.csv`\n",
    "\n",
    "### Document Schema\n",
    "After the data is downloaded, we define a DocArray document schema for our data, consisting of a text field (concatenation of title, overview and actors names of the movies) and an embedding field. "
   ]
  },
  {
   "cell_type": "code",
   "execution_count": 4,
   "id": "326f9269-7969-4145-87e3-06ca3a420c0f",
   "metadata": {
    "tags": []
   },
   "outputs": [],
   "source": [
    "# Define a docarray document schema\n",
    "class MovieDocument(BaseDoc):\n",
    "    text: str  # will contain a concatenation of title, overview and actors names\n",
    "    embedding: NdArray[384] = Field(is_embedding=True)  # Embedding column -> vector representation of the document"
   ]
  },
  {
   "cell_type": "markdown",
   "id": "8a899487-fe6c-46cf-97e0-f81de07dbd6a",
   "metadata": {},
   "source": [
    "\n",
    "### Encoding\n",
    "We also define a helper function `encode()` to help us encode our text fields using `sentence-transformers`. We will be using the `'multi-qa-MiniLM-L6-cos-v1'` model, which has been specifically trained for semantic search, using 215M question-answer pairs from various sources and domains, including StackExchange, Yahoo Answers, Google & Bing search queries and many more. This model should perform well across many search tasks and domains, including the movies domain. Let's see how well it does."
   ]
  },
  {
   "cell_type": "code",
   "execution_count": 5,
   "id": "9a617bf1-82d5-477f-9d00-b9b703a57720",
   "metadata": {
    "tags": []
   },
   "outputs": [
    {
     "name": "stdout",
     "output_type": "stream",
     "text": [
      "Skipping, found downloaded files in \"./imdb-dataset-of-top-1000-movies-and-tv-shows\" (use force=True to force download)\n"
     ]
    }
   ],
   "source": [
    "import opendatasets as od\n",
    "od.download(\"https://www.kaggle.com/datasets/harshitshankhdhar/imdb-dataset-of-top-1000-movies-and-tv-shows\")"
   ]
  },
  {
   "cell_type": "code",
   "execution_count": 6,
   "id": "7ad78ebd-6c63-40a8-8dc9-94196de9c66f",
   "metadata": {
    "tags": []
   },
   "outputs": [],
   "source": [
    "from sentence_transformers import SentenceTransformer, util\n",
    "model = SentenceTransformer('multi-qa-MiniLM-L6-cos-v1') # may take some time to load!\n",
    "\n",
    "def encode(text: str):\n",
    "    embedding = model.encode(text)\n",
    "    return embedding"
   ]
  },
  {
   "cell_type": "code",
   "execution_count": 7,
   "id": "a6b9a64e-6573-41d4-855e-61c1ba3588fa",
   "metadata": {
    "tags": []
   },
   "outputs": [],
   "source": [
    "# Load the data\n",
    "docs = []\n",
    "with open('imdb-dataset-of-top-1000-movies-and-tv-shows/imdb_top_1000.csv', newline='') as csvfile:\n",
    "    movie_reader = csv.reader(csvfile, delimiter=',')\n",
    "    h = movie_reader.__next__()\n",
    "    c = 0\n",
    "    for row in movie_reader:\n",
    "        text = ' '.join([row[1], row[2], row[5], row[7]] + row[9:13])\n",
    "        embedding = encode(text=text)\n",
    "        d = MovieDocument(text=text, embedding=embedding, id=c)\n",
    "        docs.append(d)\n",
    "        c += 1"
   ]
  },
  {
   "cell_type": "code",
   "execution_count": 8,
   "id": "e9ff8afb-7955-4dad-8857-fc2e7b707d9f",
   "metadata": {},
   "outputs": [
    {
     "name": "stdout",
     "output_type": "stream",
     "text": [
      "Number of documents:  1000\n"
     ]
    },
    {
     "data": {
      "text/html": [
       "<pre style=\"white-space:pre;overflow-x:auto;line-height:normal;font-family:Menlo,'DejaVu Sans Mono',consolas,'Courier New',monospace\">📄 <span style=\"font-weight: bold\">MovieDocument </span>: <span style=\"color: #008080; text-decoration-color: #008080\">0 ...</span>\n",
       "╭────────────────────┬────────────────────────────────────────────────────────────────────────────────────────────╮\n",
       "│<span style=\"font-weight: bold\"> Attribute          </span>│<span style=\"font-weight: bold\"> Value                                                                                      </span>│\n",
       "├────────────────────┼────────────────────────────────────────────────────────────────────────────────────────────┤\n",
       "│ text: str          │ The Shawshank Redemption 1994 Drama Two imprisoned ... (length: 207)                       │\n",
       "│ embedding: NdArray │ NdArray of shape (384,), dtype: float32                                                    │\n",
       "╰────────────────────┴────────────────────────────────────────────────────────────────────────────────────────────╯\n",
       "</pre>\n"
      ],
      "text/plain": [
       "📄 \u001b[1mMovieDocument \u001b[0m: \u001b[36m0 ...\u001b[0m\n",
       "╭────────────────────┬────────────────────────────────────────────────────────────────────────────────────────────╮\n",
       "│\u001b[1m \u001b[0m\u001b[1mAttribute         \u001b[0m\u001b[1m \u001b[0m│\u001b[1m \u001b[0m\u001b[1mValue                                                                                     \u001b[0m\u001b[1m \u001b[0m│\n",
       "├────────────────────┼────────────────────────────────────────────────────────────────────────────────────────────┤\n",
       "│ text: str          │ The Shawshank Redemption 1994 Drama Two imprisoned ... (length: 207)                       │\n",
       "│ embedding: NdArray │ NdArray of shape (384,), dtype: float32                                                    │\n",
       "╰────────────────────┴────────────────────────────────────────────────────────────────────────────────────────────╯\n"
      ]
     },
     "metadata": {},
     "output_type": "display_data"
    }
   ],
   "source": [
    "# Take a look at the loaded + processed documents\n",
    "print(\"Number of documents: \", len(docs))\n",
    "docs[0].summary()"
   ]
  },
  {
   "cell_type": "markdown",
   "id": "2b722fa7-f82d-453e-b5a4-c6c5b8b8ad10",
   "metadata": {},
   "source": [
    "## Indexing\n",
    "\n",
    "Next, we want to store our documents in a document store, in this case in a Weaviate document index. This notebook assumes you have a local Weaviate instance set up, and therefore uses the host `http://localhost:8080`, but if you have instead set up a remote instance, please follow the [documentation](https://docs.docarray.org/user_guide/storing/index_weaviate/) for connecting to your Weaviate index."
   ]
  },
  {
   "cell_type": "code",
   "execution_count": 9,
   "id": "2de0d634-a646-4680-8c4a-8674b2e01bf5",
   "metadata": {
    "tags": []
   },
   "outputs": [],
   "source": [
    "batch_config = {\n",
    "    \"batch_size\": 20,\n",
    "    \"dynamic\": False,\n",
    "    \"timeout_retries\": 3,\n",
    "    \"num_workers\": 1,\n",
    "}\n",
    "\n",
    "runtimeconfig = WeaviateDocumentIndex.RuntimeConfig(batch_config=batch_config)\n",
    "\n",
    "store = WeaviateDocumentIndex[MovieDocument](host=\"http://localhost:8080\", index_name=\"MovieDocument\")\n",
    "\n",
    "store.configure(runtimeconfig)  # Batch settings being passed on\n",
    "store.index(docs)"
   ]
  },
  {
   "cell_type": "markdown",
   "id": "54056db0-005b-4628-a7db-65d20e3fcb3b",
   "metadata": {},
   "source": [
    "__________________"
   ]
  },
  {
   "cell_type": "markdown",
   "id": "d6c90f4d-51dd-4253-8a91-be8df8eaf1a1",
   "metadata": {},
   "source": [
    "## 1. Text Search\n",
    "\n",
    "Now, we can start to search our IMDB Movies data! First, let's use symbolic search with a text query to find some results. The `text_search()` method on the Weaviate document store will find exact matches (case insensitive) for our text query, meaning the words must appear in the documents text in order to be returned as a result."
   ]
  },
  {
   "cell_type": "code",
   "execution_count": 10,
   "id": "76ccd7a7-bb0e-4b7c-ab80-c8d7b89140df",
   "metadata": {
    "tags": []
   },
   "outputs": [],
   "source": [
    "# Define text query\n",
    "text_query = 'monster scary'"
   ]
  },
  {
   "cell_type": "code",
   "execution_count": 11,
   "id": "2b6f7c49-a1ac-45e2-a281-c6889f11f593",
   "metadata": {
    "tags": []
   },
   "outputs": [
    {
     "name": "stdout",
     "output_type": "stream",
     "text": [
      "Number of documents returned:  3\n"
     ]
    }
   ],
   "source": [
    "text_q = store.build_query().text_search(text_query, search_field=\"text\").limit(10).build()\n",
    "text_results = store.execute_query(text_q)\n",
    "print(\"Number of documents returned: \", len(text_results))"
   ]
  },
  {
   "cell_type": "code",
   "execution_count": 12,
   "id": "c11356c0-dc70-41fa-b765-869334a1c729",
   "metadata": {
    "tags": []
   },
   "outputs": [
    {
     "name": "stdout",
     "output_type": "stream",
     "text": [
      "Document number:  719\n",
      "Document text:\n",
      "Frankenstein 1931 Drama, Horror, Sci-Fi Dr. Frankenstein dares to tamper with life and death by creating a human monster out of lifeless body parts. James Whale Colin Clive Mae Clarke Boris Karloff\n",
      "Match found at position  113 / -1\n",
      "\n",
      "Document number:  401\n",
      "Document text:\n",
      "Beauty and the Beast 1991 Animation, Family, Fantasy A prince cursed to spend his days as a hideous monster sets out to regain his humanity by earning a young woman's love. Gary Trousdale Kirk Wise Paige O'Hara Robby Benson\n",
      "Match found at position  100 / -1\n",
      "\n",
      "Document number:  716\n",
      "Document text:\n",
      "Bride of Frankenstein 1935 Drama, Horror, Sci-Fi Mary Shelley reveals the main characters of her novel survived: Dr. Frankenstein, goaded by an even madder scientist, builds his monster a mate. James Whale Boris Karloff Elsa Lanchester Colin Clive\n",
      "Match found at position  178 / -1\n",
      "\n"
     ]
    }
   ],
   "source": [
    "for doc in text_results:\n",
    "    print(\"Document number: \", doc.id)\n",
    "    print(\"Document text:\")\n",
    "    print(doc.text)\n",
    "    print(\"Match found at position \", doc.text.lower().find(\"monster\"), \"/\", doc.text.lower().find(\"scary\"))\n",
    "    print()"
   ]
  },
  {
   "cell_type": "markdown",
   "id": "4c114055-f2f8-4c6b-99e0-2de8c7a61a1a",
   "metadata": {
    "tags": []
   },
   "source": [
    "### Notes\n",
    "Because only exact matches are returned, we only get 3 results, even though we set the limit to 10. This means, the text search does not automatically return \"similar\" results - nope! It only returns results that contain our term(s). Unfortunately, there are no exact matches for the term \"scary\" in our dataset."
   ]
  },
  {
   "cell_type": "markdown",
   "id": "ad14e161-7d04-4ba6-8dd5-fdfdc55462e1",
   "metadata": {},
   "source": [
    "__________________"
   ]
  },
  {
   "cell_type": "markdown",
   "id": "fe921c78-7e5a-4a35-b667-4e14c0ab4368",
   "metadata": {
    "tags": []
   },
   "source": [
    "## 2. Vector Search\n",
    "Next, we'll try to use the embeddings we got from the inference endpoint, by also encoding the query and then computing similarity between our query vector and the vectors of our documents. We call the `find()` method with a query embedding on our document store."
   ]
  },
  {
   "cell_type": "code",
   "execution_count": 13,
   "id": "70b237fc-a08e-404a-8e55-4ad0d51cf670",
   "metadata": {
    "tags": []
   },
   "outputs": [
    {
     "name": "stdout",
     "output_type": "stream",
     "text": [
      "Number of documents returned:  10\n"
     ]
    }
   ],
   "source": [
    "q_embedding = encode(text_query)\n",
    "vector_q = (\n",
    "    store.build_query()\n",
    "    .find(q_embedding)\n",
    "    .limit(10)\n",
    "    .build()\n",
    ")\n",
    "\n",
    "vector_results = store.execute_query(vector_q)\n",
    "print(\"Number of documents returned: \", len(vector_results))"
   ]
  },
  {
   "cell_type": "markdown",
   "id": "cf32ca9b-2ea2-4ef4-84ab-51633375b6a0",
   "metadata": {
    "tags": []
   },
   "source": [
    "### Notes \n",
    "\n",
    "Great! We have 10 results now. That's because the vector comparison can still find \"similar\" results even if there are no explicit mentions of our terms \"monster\" and \"scary\". We'll take a closer look at the results in a comparative analysis below."
   ]
  },
  {
   "cell_type": "markdown",
   "id": "f05e7c63-202e-4e17-b38a-64b8f46f2e0d",
   "metadata": {},
   "source": [
    "__________________"
   ]
  },
  {
   "cell_type": "markdown",
   "id": "dd489b50-945f-410f-b9a7-fd5e1f0de2f9",
   "metadata": {},
   "source": [
    "## 3. Hybrid Search"
   ]
  },
  {
   "cell_type": "code",
   "execution_count": 15,
   "id": "e84c646a-071b-4e2c-99f5-679fbb64e203",
   "metadata": {
    "tags": []
   },
   "outputs": [
    {
     "name": "stdout",
     "output_type": "stream",
     "text": [
      "Number of documents returned:  10\n"
     ]
    }
   ],
   "source": [
    "q_embedding = encode(text_query)\n",
    "hybrid_q = (\n",
    "    store.build_query()\n",
    "    .text_search(\n",
    "        text_query, search_field=None  # Set as None as it is required but has no effect\n",
    "    )\n",
    "    .find(q_embedding)\n",
    "    .limit(10)\n",
    "    .build()\n",
    ")\n",
    "\n",
    "hybrid_results = store.execute_query(hybrid_q)\n",
    "print(\"Number of documents returned: \", len(hybrid_results))"
   ]
  },
  {
   "cell_type": "markdown",
   "id": "5e40360c-5fbe-4f51-8df8-ca867c629577",
   "metadata": {
    "jupyter": {
     "outputs_hidden": true
    },
    "tags": []
   },
   "source": [
    "### Notes\n",
    "\n",
    "We again have a total of 10 results. These results should combine the best of both worlds, pushing documents to the top that contain an explicit mention of our search terms, and filling up the rest of the results with highly relevant results, possibly containing synonyms and related topics. We'll analyse this below!"
   ]
  },
  {
   "cell_type": "markdown",
   "id": "0742448f-ed3e-449f-9a04-b01a7ae8c4e3",
   "metadata": {},
   "source": [
    "__________________"
   ]
  },
  {
   "cell_type": "markdown",
   "id": "969b3c6e-ad57-4753-b4d2-6c792c8e5f18",
   "metadata": {},
   "source": [
    "## Results: A Comparative Analysis\n",
    "\n",
    "Now that we have a bunch of search results from our various approaches, let's see how many relevant results were retrieved using the approaches."
   ]
  },
  {
   "cell_type": "code",
   "execution_count": 16,
   "id": "bbca4acf-e00e-4a2a-9782-03df7d131b06",
   "metadata": {
    "tags": []
   },
   "outputs": [],
   "source": [
    "from IPython.display import HTML\n",
    "from typing import List\n",
    "import pandas as pd\n",
    "pd.set_option('display.max_colwidth', 0)"
   ]
  },
  {
   "cell_type": "code",
   "execution_count": 17,
   "id": "0d62d5e7-21a4-4edc-808d-0ae5ecc6fbac",
   "metadata": {
    "tags": []
   },
   "outputs": [],
   "source": [
    "def display_result(bm25_data: List[MovieDocument], vec_data: List[MovieDocument], hyb_data: List[MovieDocument]):\n",
    "    df1 = bm25_data.to_dataframe()\n",
    "    df2 = vec_data.to_dataframe()\n",
    "    df3 = hyb_data.to_dataframe()\n",
    "    df = pd.concat([df1, df2, df3], axis=1).drop([\"embedding\"], axis=1)\n",
    "    df.columns = [\n",
    "        [\"text search results\", \"text search results\", \"vector search results\", \"vector search results\", \"hybrid search results\", \"hybrid search results\"],\n",
    "        [\"text\", \"id\", \"text\", \"id\", \"text\", \"id\"]\n",
    "    ]\n",
    "    return df.style.set_table_styles(\n",
    "    [{\"selector\": \"\", \"props\": [(\"border\", \"1px solid grey\")]},\n",
    "      {\"selector\": \"tbody td\", \"props\": [(\"border\", \"1px solid grey\")]},\n",
    "     {\"selector\": \"th\", \"props\": [(\"border\", \"1px solid grey\")]}\n",
    "    ]\n",
    ")"
   ]
  },
  {
   "cell_type": "code",
   "execution_count": 18,
   "id": "d66c7a4d-ed5f-4144-aa9d-bedff63a5a18",
   "metadata": {
    "tags": []
   },
   "outputs": [
    {
     "data": {
      "text/html": [
       "<style type=\"text/css\">\n",
       "#T_e7fb6  {\n",
       "  border: 1px solid grey;\n",
       "}\n",
       "#T_e7fb6 tbody td {\n",
       "  border: 1px solid grey;\n",
       "}\n",
       "#T_e7fb6 th {\n",
       "  border: 1px solid grey;\n",
       "}\n",
       "</style>\n",
       "<table id=\"T_e7fb6\">\n",
       "  <thead>\n",
       "    <tr>\n",
       "      <th class=\"blank level0\" >&nbsp;</th>\n",
       "      <th id=\"T_e7fb6_level0_col0\" class=\"col_heading level0 col0\" colspan=\"2\">text search results</th>\n",
       "      <th id=\"T_e7fb6_level0_col2\" class=\"col_heading level0 col2\" colspan=\"2\">vector search results</th>\n",
       "      <th id=\"T_e7fb6_level0_col4\" class=\"col_heading level0 col4\" colspan=\"2\">hybrid search results</th>\n",
       "    </tr>\n",
       "    <tr>\n",
       "      <th class=\"blank level1\" >&nbsp;</th>\n",
       "      <th id=\"T_e7fb6_level1_col0\" class=\"col_heading level1 col0\" >text</th>\n",
       "      <th id=\"T_e7fb6_level1_col1\" class=\"col_heading level1 col1\" >id</th>\n",
       "      <th id=\"T_e7fb6_level1_col2\" class=\"col_heading level1 col2\" >text</th>\n",
       "      <th id=\"T_e7fb6_level1_col3\" class=\"col_heading level1 col3\" >id</th>\n",
       "      <th id=\"T_e7fb6_level1_col4\" class=\"col_heading level1 col4\" >text</th>\n",
       "      <th id=\"T_e7fb6_level1_col5\" class=\"col_heading level1 col5\" >id</th>\n",
       "    </tr>\n",
       "  </thead>\n",
       "  <tbody>\n",
       "    <tr>\n",
       "      <th id=\"T_e7fb6_level0_row0\" class=\"row_heading level0 row0\" >0</th>\n",
       "      <td id=\"T_e7fb6_row0_col0\" class=\"data row0 col0\" >719</td>\n",
       "      <td id=\"T_e7fb6_row0_col1\" class=\"data row0 col1\" >Frankenstein 1931 Drama, Horror, Sci-Fi Dr. Frankenstein dares to tamper with life and death by creating a human monster out of lifeless body parts. James Whale Colin Clive Mae Clarke Boris Karloff</td>\n",
       "      <td id=\"T_e7fb6_row0_col2\" class=\"data row0 col2\" >245</td>\n",
       "      <td id=\"T_e7fb6_row0_col3\" class=\"data row0 col3\" >Monsters, Inc. 2001 Animation, Adventure, Comedy In order to power the city, monsters have to scare children so that they scream. However, the children are toxic to the monsters, and after a child gets through, 2 monsters realize things may not be what they think. Pete Docter David Silverman Lee Unkrich Billy Crystal</td>\n",
       "      <td id=\"T_e7fb6_row0_col4\" class=\"data row0 col4\" >719</td>\n",
       "      <td id=\"T_e7fb6_row0_col5\" class=\"data row0 col5\" >Frankenstein 1931 Drama, Horror, Sci-Fi Dr. Frankenstein dares to tamper with life and death by creating a human monster out of lifeless body parts. James Whale Colin Clive Mae Clarke Boris Karloff</td>\n",
       "    </tr>\n",
       "    <tr>\n",
       "      <th id=\"T_e7fb6_level0_row1\" class=\"row_heading level0 row1\" >1</th>\n",
       "      <td id=\"T_e7fb6_row1_col0\" class=\"data row1 col0\" >401</td>\n",
       "      <td id=\"T_e7fb6_row1_col1\" class=\"data row1 col1\" >Beauty and the Beast 1991 Animation, Family, Fantasy A prince cursed to spend his days as a hideous monster sets out to regain his humanity by earning a young woman's love. Gary Trousdale Kirk Wise Paige O'Hara Robby Benson</td>\n",
       "      <td id=\"T_e7fb6_row1_col2\" class=\"data row1 col2\" >719</td>\n",
       "      <td id=\"T_e7fb6_row1_col3\" class=\"data row1 col3\" >Frankenstein 1931 Drama, Horror, Sci-Fi Dr. Frankenstein dares to tamper with life and death by creating a human monster out of lifeless body parts. James Whale Colin Clive Mae Clarke Boris Karloff</td>\n",
       "      <td id=\"T_e7fb6_row1_col4\" class=\"data row1 col4\" >401</td>\n",
       "      <td id=\"T_e7fb6_row1_col5\" class=\"data row1 col5\" >Beauty and the Beast 1991 Animation, Family, Fantasy A prince cursed to spend his days as a hideous monster sets out to regain his humanity by earning a young woman's love. Gary Trousdale Kirk Wise Paige O'Hara Robby Benson</td>\n",
       "    </tr>\n",
       "    <tr>\n",
       "      <th id=\"T_e7fb6_level0_row2\" class=\"row_heading level0 row2\" >2</th>\n",
       "      <td id=\"T_e7fb6_row2_col0\" class=\"data row2 col0\" >716</td>\n",
       "      <td id=\"T_e7fb6_row2_col1\" class=\"data row2 col1\" >Bride of Frankenstein 1935 Drama, Horror, Sci-Fi Mary Shelley reveals the main characters of her novel survived: Dr. Frankenstein, goaded by an even madder scientist, builds his monster a mate. James Whale Boris Karloff Elsa Lanchester Colin Clive</td>\n",
       "      <td id=\"T_e7fb6_row2_col2\" class=\"data row2 col2\" >844</td>\n",
       "      <td id=\"T_e7fb6_row2_col3\" class=\"data row2 col3\" >Halloween 1978 Horror, Thriller Fifteen years after murdering his sister on Halloween night 1963, Michael Myers escapes from a mental hospital and returns to the small town of Haddonfield, Illinois to kill again. John Carpenter Donald Pleasence Jamie Lee Curtis Tony Moran</td>\n",
       "      <td id=\"T_e7fb6_row2_col4\" class=\"data row2 col4\" >245</td>\n",
       "      <td id=\"T_e7fb6_row2_col5\" class=\"data row2 col5\" >Monsters, Inc. 2001 Animation, Adventure, Comedy In order to power the city, monsters have to scare children so that they scream. However, the children are toxic to the monsters, and after a child gets through, 2 monsters realize things may not be what they think. Pete Docter David Silverman Lee Unkrich Billy Crystal</td>\n",
       "    </tr>\n",
       "    <tr>\n",
       "      <th id=\"T_e7fb6_level0_row3\" class=\"row_heading level0 row3\" >3</th>\n",
       "      <td id=\"T_e7fb6_row3_col0\" class=\"data row3 col0\" >nan</td>\n",
       "      <td id=\"T_e7fb6_row3_col1\" class=\"data row3 col1\" >nan</td>\n",
       "      <td id=\"T_e7fb6_row3_col2\" class=\"data row3 col2\" >271</td>\n",
       "      <td id=\"T_e7fb6_row3_col3\" class=\"data row3 col3\" >The Thing 1982 Horror, Mystery, Sci-Fi A research team in Antarctica is hunted by a shape-shifting alien that assumes the appearance of its victims. John Carpenter Kurt Russell Wilford Brimley Keith David</td>\n",
       "      <td id=\"T_e7fb6_row3_col4\" class=\"data row3 col4\" >716</td>\n",
       "      <td id=\"T_e7fb6_row3_col5\" class=\"data row3 col5\" >Bride of Frankenstein 1935 Drama, Horror, Sci-Fi Mary Shelley reveals the main characters of her novel survived: Dr. Frankenstein, goaded by an even madder scientist, builds his monster a mate. James Whale Boris Karloff Elsa Lanchester Colin Clive</td>\n",
       "    </tr>\n",
       "    <tr>\n",
       "      <th id=\"T_e7fb6_level0_row4\" class=\"row_heading level0 row4\" >4</th>\n",
       "      <td id=\"T_e7fb6_row4_col0\" class=\"data row4 col0\" >nan</td>\n",
       "      <td id=\"T_e7fb6_row4_col1\" class=\"data row4 col1\" >nan</td>\n",
       "      <td id=\"T_e7fb6_row4_col2\" class=\"data row4 col2\" >395</td>\n",
       "      <td id=\"T_e7fb6_row4_col3\" class=\"data row4 col3\" >The Nightmare Before Christmas 1993 Animation, Family, Fantasy Jack Skellington, king of Halloween Town, discovers Christmas Town, but his attempts to bring Christmas to his home causes confusion. Henry Selick Danny Elfman Chris Sarandon Catherine O'Hara</td>\n",
       "      <td id=\"T_e7fb6_row4_col4\" class=\"data row4 col4\" >844</td>\n",
       "      <td id=\"T_e7fb6_row4_col5\" class=\"data row4 col5\" >Halloween 1978 Horror, Thriller Fifteen years after murdering his sister on Halloween night 1963, Michael Myers escapes from a mental hospital and returns to the small town of Haddonfield, Illinois to kill again. John Carpenter Donald Pleasence Jamie Lee Curtis Tony Moran</td>\n",
       "    </tr>\n",
       "    <tr>\n",
       "      <th id=\"T_e7fb6_level0_row5\" class=\"row_heading level0 row5\" >5</th>\n",
       "      <td id=\"T_e7fb6_row5_col0\" class=\"data row5 col0\" >nan</td>\n",
       "      <td id=\"T_e7fb6_row5_col1\" class=\"data row5 col1\" >nan</td>\n",
       "      <td id=\"T_e7fb6_row5_col2\" class=\"data row5 col2\" >724</td>\n",
       "      <td id=\"T_e7fb6_row5_col3\" class=\"data row5 col3\" >Get Out 2017 Horror, Mystery, Thriller A young African-American visits his white girlfriend's parents for the weekend, where his simmering uneasiness about their reception of him eventually reaches a boiling point. Jordan Peele Daniel Kaluuya Allison Williams Bradley Whitford</td>\n",
       "      <td id=\"T_e7fb6_row5_col4\" class=\"data row5 col4\" >271</td>\n",
       "      <td id=\"T_e7fb6_row5_col5\" class=\"data row5 col5\" >The Thing 1982 Horror, Mystery, Sci-Fi A research team in Antarctica is hunted by a shape-shifting alien that assumes the appearance of its victims. John Carpenter Kurt Russell Wilford Brimley Keith David</td>\n",
       "    </tr>\n",
       "    <tr>\n",
       "      <th id=\"T_e7fb6_level0_row6\" class=\"row_heading level0 row6\" >6</th>\n",
       "      <td id=\"T_e7fb6_row6_col0\" class=\"data row6 col0\" >nan</td>\n",
       "      <td id=\"T_e7fb6_row6_col1\" class=\"data row6 col1\" >nan</td>\n",
       "      <td id=\"T_e7fb6_row6_col2\" class=\"data row6 col2\" >401</td>\n",
       "      <td id=\"T_e7fb6_row6_col3\" class=\"data row6 col3\" >Beauty and the Beast 1991 Animation, Family, Fantasy A prince cursed to spend his days as a hideous monster sets out to regain his humanity by earning a young woman's love. Gary Trousdale Kirk Wise Paige O'Hara Robby Benson</td>\n",
       "      <td id=\"T_e7fb6_row6_col4\" class=\"data row6 col4\" >395</td>\n",
       "      <td id=\"T_e7fb6_row6_col5\" class=\"data row6 col5\" >The Nightmare Before Christmas 1993 Animation, Family, Fantasy Jack Skellington, king of Halloween Town, discovers Christmas Town, but his attempts to bring Christmas to his home causes confusion. Henry Selick Danny Elfman Chris Sarandon Catherine O'Hara</td>\n",
       "    </tr>\n",
       "    <tr>\n",
       "      <th id=\"T_e7fb6_level0_row7\" class=\"row_heading level0 row7\" >7</th>\n",
       "      <td id=\"T_e7fb6_row7_col0\" class=\"data row7 col0\" >nan</td>\n",
       "      <td id=\"T_e7fb6_row7_col1\" class=\"data row7 col1\" >nan</td>\n",
       "      <td id=\"T_e7fb6_row7_col2\" class=\"data row7 col2\" >932</td>\n",
       "      <td id=\"T_e7fb6_row7_col3\" class=\"data row7 col3\" >Saw 2004 Horror, Mystery, Thriller Two strangers awaken in a room with no recollection of how they got there, and soon discover they're pawns in a deadly game perpetrated by a notorious serial killer. James Wan Cary Elwes Leigh Whannell Danny Glover</td>\n",
       "      <td id=\"T_e7fb6_row7_col4\" class=\"data row7 col4\" >724</td>\n",
       "      <td id=\"T_e7fb6_row7_col5\" class=\"data row7 col5\" >Get Out 2017 Horror, Mystery, Thriller A young African-American visits his white girlfriend's parents for the weekend, where his simmering uneasiness about their reception of him eventually reaches a boiling point. Jordan Peele Daniel Kaluuya Allison Williams Bradley Whitford</td>\n",
       "    </tr>\n",
       "    <tr>\n",
       "      <th id=\"T_e7fb6_level0_row8\" class=\"row_heading level0 row8\" >8</th>\n",
       "      <td id=\"T_e7fb6_row8_col0\" class=\"data row8 col0\" >nan</td>\n",
       "      <td id=\"T_e7fb6_row8_col1\" class=\"data row8 col1\" >nan</td>\n",
       "      <td id=\"T_e7fb6_row8_col2\" class=\"data row8 col2\" >566</td>\n",
       "      <td id=\"T_e7fb6_row8_col3\" class=\"data row8 col3\" >King Kong 1933 Adventure, Horror, Sci-Fi A film crew goes to a tropical island for an exotic location shoot and discovers a colossal ape who takes a shine to their female blonde star. He is then captured and brought back to New York City for public exhibition. Merian C. Cooper Ernest B. Schoedsack Fay Wray Robert Armstrong</td>\n",
       "      <td id=\"T_e7fb6_row8_col4\" class=\"data row8 col4\" >932</td>\n",
       "      <td id=\"T_e7fb6_row8_col5\" class=\"data row8 col5\" >Saw 2004 Horror, Mystery, Thriller Two strangers awaken in a room with no recollection of how they got there, and soon discover they're pawns in a deadly game perpetrated by a notorious serial killer. James Wan Cary Elwes Leigh Whannell Danny Glover</td>\n",
       "    </tr>\n",
       "    <tr>\n",
       "      <th id=\"T_e7fb6_level0_row9\" class=\"row_heading level0 row9\" >9</th>\n",
       "      <td id=\"T_e7fb6_row9_col0\" class=\"data row9 col0\" >nan</td>\n",
       "      <td id=\"T_e7fb6_row9_col1\" class=\"data row9 col1\" >nan</td>\n",
       "      <td id=\"T_e7fb6_row9_col2\" class=\"data row9 col2\" >417</td>\n",
       "      <td id=\"T_e7fb6_row9_col3\" class=\"data row9 col3\" >Young Frankenstein 1974 Comedy An American grandson of the infamous scientist, struggling to prove that his grandfather was not as insane as people believe, is invited to Transylvania, where he discovers the process that reanimates a dead body. Mel Brooks Gene Wilder Madeline Kahn Marty Feldman</td>\n",
       "      <td id=\"T_e7fb6_row9_col4\" class=\"data row9 col4\" >566</td>\n",
       "      <td id=\"T_e7fb6_row9_col5\" class=\"data row9 col5\" >King Kong 1933 Adventure, Horror, Sci-Fi A film crew goes to a tropical island for an exotic location shoot and discovers a colossal ape who takes a shine to their female blonde star. He is then captured and brought back to New York City for public exhibition. Merian C. Cooper Ernest B. Schoedsack Fay Wray Robert Armstrong</td>\n",
       "    </tr>\n",
       "  </tbody>\n",
       "</table>\n"
      ],
      "text/plain": [
       "<pandas.io.formats.style.Styler at 0x13c9869e0>"
      ]
     },
     "execution_count": 18,
     "metadata": {},
     "output_type": "execute_result"
    }
   ],
   "source": [
    "display_result(text_results, vector_results, hybrid_results)"
   ]
  },
  {
   "cell_type": "markdown",
   "id": "2606d4c5-cbd8-4844-b2aa-4455f4898338",
   "metadata": {},
   "source": [
    "As we already discussed above, the **text search** using BM25 only returns results containing and exact match for our query terms, in this case only matching three documents. We know with certainty that these three documents are relevant to our query, making the *precision* of this approach very high. However, many documents are missing, even ones that contain a pluralized form of our search terms (eg. \"monsters\"), making the *recall* of this approach poor.\n",
    "\n",
    "The top 5 **vector search** results are also all relevant to our query, containing mentions of \"monsters\", \"beasts\", \"Frankenstein\" (also a 'monster') a \"shape-shifting alien\" and \"ogre\", though only two of the three documents retrieved by the text search approach appear in the 10 results retrieved using vector search (documents 719 and 401). \"Bride of Frankenstein\" seems to be missing in the top 10. There are also some documents returned that don't seem to be relevant, for example documents 58, 740 and 984 (though they may still be 'scary'? Actually, no. \"The Muppet Movie\" and \"Wreck-It Ralph\" are certainly not scary). Nonetheless, the vector search approach here does quite well as it goes on latent representations of our data, capturing content with similar meanings such as `beasts, threat, ogre, victims` and is thereby able to successfully retrieve quite a few relevant documents (7 out of 10), with only a few non-relevant entries. \n",
    "\n",
    "Let's finally take a look at the **hybrid search** results, the top 5 of which contain our exact matches (documents 719, 401, 716) from the text search approach! This is because these documents got a higher combined score from the BM25 component in our hybrid scoring calculation. The rest of the results are filled in by the vector search component, showing improved results over a simple BM25 search, but still incorporating the advantages of this symbolic search approach into the hybrid search. Although \"The Muppet Movie\" and \"Wreck-It Ralph\" (our non-relevant results) still appear in the top 10, they've been pushed down the list, making way for more relevant search results."
   ]
  },
  {
   "cell_type": "code",
   "execution_count": null,
   "id": "55773795-7701-4150-8716-18865b8fdf45",
   "metadata": {},
   "outputs": [],
   "source": []
  }
 ],
 "metadata": {
  "kernelspec": {
   "display_name": "hybrid-venv-2",
   "language": "python",
   "name": "hybrid-venv-2"
  },
  "language_info": {
   "codemirror_mode": {
    "name": "ipython",
    "version": 3
   },
   "file_extension": ".py",
   "mimetype": "text/x-python",
   "name": "python",
   "nbconvert_exporter": "python",
   "pygments_lexer": "ipython3",
   "version": "3.10.9"
  }
 },
 "nbformat": 4,
 "nbformat_minor": 5
}
